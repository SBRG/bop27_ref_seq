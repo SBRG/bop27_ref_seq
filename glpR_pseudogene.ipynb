{
 "cells": [
  {
   "cell_type": "code",
   "execution_count": 3,
   "metadata": {},
   "outputs": [],
   "source": [
    "from Bio import SeqIO"
   ]
  },
  {
   "cell_type": "code",
   "execution_count": 4,
   "metadata": {},
   "outputs": [
    {
     "name": "stdout",
     "output_type": "stream",
     "text": [
      "NC_000913.3\n",
      "Seq('AGCTTTTCATTCTGACTGCAACGGGCAATATGTCTCTGTGTGGATTAAAAAAAG...TTC', IUPACAmbiguousDNA())\n"
     ]
    },
    {
     "data": {
      "text/plain": [
       "OrderedDict([('gene', ['glpR']),\n",
       "             ('locus_tag', ['b3423']),\n",
       "             ('gene_synonym', ['ECK3409; JW3386']),\n",
       "             ('pseudo', ['']),\n",
       "             ('db_xref', ['EcoGene:EG10400', 'GeneID:947926'])])"
      ]
     },
     "metadata": {},
     "output_type": "display_data"
    },
    {
     "data": {
      "text/plain": [
       "758"
      ]
     },
     "metadata": {},
     "output_type": "display_data"
    },
    {
     "data": {
      "text/plain": [
       "FeatureLocation(ExactPosition(3559847), ExactPosition(3560605), strand=-1)"
      ]
     },
     "metadata": {},
     "output_type": "display_data"
    },
    {
     "data": {
      "text/plain": [
       "Seq('TCAGCACAGCTCCAGTTGAATATGGTGGTCCGTCAGCACCTGCATCACGCTTAC...CAT', IUPACAmbiguousDNA())"
      ]
     },
     "metadata": {},
     "output_type": "display_data"
    },
    {
     "name": "stdout",
     "output_type": "stream",
     "text": [
      "\n",
      "ATGAAACAAACACAACGTCACAACGGTATTATCGAACTGGTTAAACAGCAGGGTTATGTCAGTACCGAAGAGCTGGTAGAGCATTTCTCCGTCAGCCCGCAGACTATTCGCCGCGACCTCAATGAGCTGGCGGAGCAAAACCTGATCCTGGCCATCATGGCGGTGCGGCGCTGCCTTCCAGTTCGGTTAACACGCCGTGGCACGATCGCAAGGCCACCCAGACCGAAGAAAAAGAGCGCATCGCCCGCAAAGTGGCGGAGCAAATCCCCAATGGCTCGACGCTGTTTATCGATATCGGCACCACGCCGGAAGCGGTAGCGCACGCACTGCTCAATCACAGCAATTTGCGCATTGTCACCAACAATCTCAACGTTGCTAACACGTTGATGGTAAAAGAAGATTTTCGCATCATTCTCGCCGGTGGCGAATTACGCAGCCGCGATGGCGGGATCATTGGCGAAGCGACGCTCGATTTTATCTCCCAGTTCCGCCTTGATTTCGGCATTCTGGGGATAAGCGGCATCGATAGCGACGGCTCGCTGCTGGAGTTCGATTACCACGAAGTTCGCACCAAACGCGCCATTATTGAGAACTCGCGCCACGTTATGCTGGTTGTCGATCACTCGAAATTTGGCCGTAACGCGATGGTCAATATGGGCAGCATCAGCATGGTAGATGCCGTCTACACCGACGCCCCGCCGCCAGTAAGCGTGATGCAGGTGCTGACGGACCACCATATTCAACTGGAGCTGTGCTGA\n"
     ]
    }
   ],
   "source": [
    "# There's only one seqence record in the NC_000913_3.gb file\n",
    "for refseq in SeqIO.parse(\"./NC_000913_3.gb\", \"genbank\"):\n",
    "    print(refseq.id)\n",
    "    print(repr(refseq.seq))\n",
    "    \n",
    "\n",
    "glpR_feat = None\n",
    "for f in refseq.features:\n",
    "    if (f.type == \"gene\") and (\"glpR\" in f.qualifiers[\"gene\"]):\n",
    "        display(f.qualifiers)\n",
    "        glpR_feat = f\n",
    "        break\n",
    "glpR_feat\n",
    "\n",
    "\n",
    "glpR_seq = glpR_feat.location.extract(refseq).reverse_complement().seq  # glpR is on the reverse strand\n",
    "display(len(glpR_seq), glpR_feat.location, glpR_seq)\n",
    "\n",
    "glpR_seq_posve_strand = glpR_feat.location.extract(refseq).seq\n",
    "print()\n",
    "print(glpR_seq_posve_strand)\n",
    "NC_glpR = glpR_seq_posve_strand"
   ]
  },
  {
   "cell_type": "code",
   "execution_count": 5,
   "metadata": {},
   "outputs": [
    {
     "name": "stdout",
     "output_type": "stream",
     "text": [
      "U00096.2\n",
      "Seq('AGCTTTTCATTCTGACTGCAACGGGCAATATGTCTCTGTGTGGATTAAAAAAAG...TTC', IUPACAmbiguousDNA())\n"
     ]
    },
    {
     "data": {
      "text/plain": [
       "OrderedDict([('gene', ['glpR']),\n",
       "             ('locus_tag', ['b3423']),\n",
       "             ('gene_synonym', ['ECK3409', 'JW3386']),\n",
       "             ('db_xref', ['EcoGene:EG10400'])])"
      ]
     },
     "metadata": {},
     "output_type": "display_data"
    },
    {
     "name": "stdout",
     "output_type": "stream",
     "text": [
      "759 TCAGCACAGCTCCAGTTGAATATGGTGGTCCGTCAGCACCTGCATCACGCTTACTGGCGGCGGGGCGTCGGTGTAGACGGCATCTACCATGCTGATGCTGCCCATATTGACCATCGCGTTACGGCCAAATTTCGAGTGATCGACAACCAGCATAACGTGGCGCGAGTTCTCAATAATGGCGCGTTTGGTGCGAACTTCGTGGTAATCGAACTCCAGCAGCGAGCCGTCGCTATCGATGCCGCTTATCCCCAGAATGCCGAAATCAAGGCGGAACTGGGAGATAAAATCGAGCGTCGCTTCGCCAATGATCCCGCCATCGCGGCTGCGTAATTCGCCACCGGCGAGAATGATGCGAAAATCTTCTTTTACCATCAACGTGTTAGCAACGTTGAGATTGTTGGTGACAATGCGCAAATTGCTGTGATTGAGCAGTGCGTGCGCTACCGCTTCCGGCGTGGTGCCGATATCGATAAACAGCGTCGAGCCATTGGGGATTTGCTCCGCCACTTTGCGGGCGATGCGCTCTTTTTCTTCGGTCTGGGTGGCCTTGCGATCGTGCCACGGCGTGTTAACCGAACTGGAAGGCAGCGCCGCACCGCCATGATGGCGCAGGATCAGGTTTTGCTCCGCCAGCTCATTGAGGTCGCGGCGAATAGTCTGCGGGCTGACGGAGAAATGCTCTACCAGCTCTTCGGTACTGACATAACCCTGCTGTTTAACCAGTTCGATAATACCGTTGTGACGTTGTGTTTGTTTCAT\n",
      "\n",
      "ATGAAACAAACACAACGTCACAACGGTATTATCGAACTGGTTAAACAGCAGGGTTATGTCAGTACCGAAGAGCTGGTAGAGCATTTCTCCGTCAGCCCGCAGACTATTCGCCGCGACCTCAATGAGCTGGCGGAGCAAAACCTGATCCTGCGCCATCATGGCGGTGCGGCGCTGCCTTCCAGTTCGGTTAACACGCCGTGGCACGATCGCAAGGCCACCCAGACCGAAGAAAAAGAGCGCATCGCCCGCAAAGTGGCGGAGCAAATCCCCAATGGCTCGACGCTGTTTATCGATATCGGCACCACGCCGGAAGCGGTAGCGCACGCACTGCTCAATCACAGCAATTTGCGCATTGTCACCAACAATCTCAACGTTGCTAACACGTTGATGGTAAAAGAAGATTTTCGCATCATTCTCGCCGGTGGCGAATTACGCAGCCGCGATGGCGGGATCATTGGCGAAGCGACGCTCGATTTTATCTCCCAGTTCCGCCTTGATTTCGGCATTCTGGGGATAAGCGGCATCGATAGCGACGGCTCGCTGCTGGAGTTCGATTACCACGAAGTTCGCACCAAACGCGCCATTATTGAGAACTCGCGCCACGTTATGCTGGTTGTCGATCACTCGAAATTTGGCCGTAACGCGATGGTCAATATGGGCAGCATCAGCATGGTAGATGCCGTCTACACCGACGCCCCGCCGCCAGTAAGCGTGATGCAGGTGCTGACGGACCACCATATTCAACTGGAGCTGTGCTGA\n"
     ]
    }
   ],
   "source": [
    "for refseq in SeqIO.parse(\"./U00096.2.gb\", \"genbank\"):\n",
    "    print(refseq.id)\n",
    "    print(repr(refseq.seq))\n",
    "    \n",
    "\n",
    "glpR_feat = None\n",
    "for f in refseq.features:\n",
    "    if (f.type == \"gene\") and (\"glpR\" in f.qualifiers[\"gene\"]):\n",
    "        display(f.qualifiers)\n",
    "        glpR_feat = f\n",
    "        break\n",
    "glpR_feat\n",
    "\n",
    "\n",
    "glpR_seq = glpR_feat.location.extract(refseq).reverse_complement().seq  # glpR is on the reverse strand\n",
    "print(len(glpR_seq), glpR_seq)\n",
    "\n",
    "glpR_seq_posve_strand = glpR_feat.location.extract(refseq).seq\n",
    "print()\n",
    "print(glpR_seq_posve_strand)\n",
    "U_glpR = glpR_seq_posve_strand"
   ]
  },
  {
   "cell_type": "markdown",
   "metadata": {},
   "source": [
    "The only difference between the NC_000913.3 and U00096.2 glpR sequences (reverse complement since on the negative strand) is a G, similar what the BreSeq report mutations had relative to the NC_000913.3 genome reference. This difference is additionally demonstrated in the genes lengths shown in the results above (758 for NC_000913.3 vs 759 U00096.2, a difference of 1).  \n",
    "The relative position of the difference on the glpR positive strand is 608 (1-based positioning; used Meld to find this).  \n",
    "The positive strand start position for glpR on NC_000913.3 is 3559847.  \n",
    "3559847 + 608 = 3560455  \n",
    "3560455 is the position of the insertion in the BOP27 strain.  \n",
    "Our BOP27 strain therefore has a functional glpR gene.  "
   ]
  },
  {
   "cell_type": "code",
   "execution_count": null,
   "metadata": {},
   "outputs": [],
   "source": []
  }
 ],
 "metadata": {
  "kernelspec": {
   "display_name": "Python 3",
   "language": "python",
   "name": "python3"
  },
  "language_info": {
   "codemirror_mode": {
    "name": "ipython",
    "version": 3
   },
   "file_extension": ".py",
   "mimetype": "text/x-python",
   "name": "python",
   "nbconvert_exporter": "python",
   "pygments_lexer": "ipython3",
   "version": "3.7.4"
  }
 },
 "nbformat": 4,
 "nbformat_minor": 2
}
